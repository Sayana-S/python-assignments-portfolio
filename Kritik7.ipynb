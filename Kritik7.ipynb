{
 "cells": [
  {
   "cell_type": "code",
   "execution_count": 1,
   "id": "eff8b564-8c20-4ef8-9d53-7fc2ad102d54",
   "metadata": {},
   "outputs": [
    {
     "name": "stdout",
     "output_type": "stream",
     "text": [
      "Sample mean: 82.38\n",
      "Sample standard deviation: 10.19\n",
      "Computed t-statistic (t0): 2.290\n",
      "Critical t-value (t*): 2.252\n",
      "Reject the null hypothesis: There is a significant difference.\n"
     ]
    }
   ],
   "source": [
    "import numpy as np\n",
    "from scipy.special import gamma\n",
    "\n",
    "# Given data\n",
    "data = [92.64, 79.00, 84.79, 97.41, 93.68, 65.23, 84.50, 73.49, 73.97, 79.11]\n",
    "mu_0 = 75  # National average\n",
    "\n",
    "# Step 1: Compute mean and standard deviation manually\n",
    "def compute_stats(data):\n",
    "    n = len(data)\n",
    "    mean = sum(data) / n\n",
    "    variance = sum((x - mean) ** 2 for x in data) / (n - 1)  # Sample variance\n",
    "    std_dev = variance ** 0.5  # Standard deviation\n",
    "    return mean, std_dev, n\n",
    "\n",
    "# Step 2: Compute t-statistic\n",
    "def compute_t_stat(mean, std_dev, n, mu_0):\n",
    "    return (mean - mu_0) / (std_dev / (n ** 0.5))\n",
    "\n",
    "# Step 3: Define the t-distribution PDF\n",
    "def t_distribution_pdf(x, nu):\n",
    "    coeff = gamma((nu + 1) / 2) / (np.sqrt(nu * np.pi) * gamma(nu / 2))\n",
    "    density = coeff * (1 + x**2 / nu) ** (-0.5 * (nu + 1))\n",
    "    return density\n",
    "\n",
    "# Step 4: Find the critical t-value (t*)\n",
    "def find_t_star(prob, nu, x_start=0, x_end=20, num_points=10000):\n",
    "    x = np.linspace(x_start, x_end, num_points)\n",
    "    y = t_distribution_pdf(x, nu)\n",
    "    cdf = np.cumsum(y) * (x[1] - x[0])  # Approximate integration\n",
    "    target_half_prob = prob / 2\n",
    "    index = np.where(cdf >= target_half_prob)[0][0]\n",
    "    return x[index]\n",
    "\n",
    "# Step 5: Hypothesis testing function\n",
    "def perform_t_test(data, mu_0, confidence=0.95):\n",
    "    mean, std_dev, n = compute_stats(data)\n",
    "    t_0 = compute_t_stat(mean, std_dev, n, mu_0)\n",
    "    nu = n - 1  # Degrees of freedom\n",
    "    t_star = find_t_star(confidence, nu)\n",
    "\n",
    "    print(f\"Sample mean: {mean:.2f}\")\n",
    "    print(f\"Sample standard deviation: {std_dev:.2f}\")\n",
    "    print(f\"Computed t-statistic (t0): {t_0:.3f}\")\n",
    "    print(f\"Critical t-value (t*): {t_star:.3f}\")\n",
    "\n",
    "    if abs(t_0) <= t_star:\n",
    "        print(\"Fail to reject the null hypothesis: No significant difference.\")\n",
    "    else:\n",
    "        print(\"Reject the null hypothesis: There is a significant difference.\")\n",
    "\n",
    "# Run the t-test\n",
    "perform_t_test(data, mu_0)"
   ]
  },
  {
   "cell_type": "code",
   "execution_count": null,
   "id": "3bae1f8d-6feb-43d7-b2ca-d965ae8a03ac",
   "metadata": {},
   "outputs": [],
   "source": []
  },
  {
   "cell_type": "code",
   "execution_count": null,
   "id": "b211976b-ab6e-45f4-a049-0d4df668c540",
   "metadata": {},
   "outputs": [],
   "source": []
  }
 ],
 "metadata": {
  "kernelspec": {
   "display_name": "Python 3 (ipykernel)",
   "language": "python",
   "name": "python3"
  },
  "language_info": {
   "codemirror_mode": {
    "name": "ipython",
    "version": 3
   },
   "file_extension": ".py",
   "mimetype": "text/x-python",
   "name": "python",
   "nbconvert_exporter": "python",
   "pygments_lexer": "ipython3",
   "version": "3.12.8"
  }
 },
 "nbformat": 4,
 "nbformat_minor": 5
}
